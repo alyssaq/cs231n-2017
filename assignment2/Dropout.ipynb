{
 "cells": [
  {
   "cell_type": "markdown",
   "metadata": {},
   "source": [
    "# Dropout\n",
    "Dropout [1] is a technique for regularizing neural networks by randomly setting some features to zero during the forward pass. In this exercise you will implement a dropout layer and modify your fully-connected network to optionally use dropout.\n",
    "\n",
    "[1] Geoffrey E. Hinton et al, \"Improving neural networks by preventing co-adaptation of feature detectors\", arXiv 2012"
   ]
  },
  {
   "cell_type": "code",
   "execution_count": 1,
   "metadata": {},
   "outputs": [],
   "source": [
    "# As usual, a bit of setup\n",
    "from __future__ import print_function\n",
    "import time\n",
    "import numpy as np\n",
    "import matplotlib.pyplot as plt\n",
    "from cs231n.classifiers.fc_net import *\n",
    "from cs231n.data_utils import get_CIFAR10_data\n",
    "from cs231n.gradient_check import eval_numerical_gradient, eval_numerical_gradient_array\n",
    "from cs231n.solver import Solver\n",
    "\n",
    "%matplotlib inline\n",
    "plt.rcParams['figure.figsize'] = (10.0, 8.0) # set default size of plots\n",
    "plt.rcParams['image.interpolation'] = 'nearest'\n",
    "plt.rcParams['image.cmap'] = 'gray'\n",
    "\n",
    "# for auto-reloading external modules\n",
    "# see http://stackoverflow.com/questions/1907993/autoreload-of-modules-in-ipython\n",
    "%load_ext autoreload\n",
    "%autoreload 2\n",
    "\n",
    "def rel_error(x, y):\n",
    "    \"\"\" returns relative error \"\"\"\n",
    "    return np.max(np.abs(x - y) / (np.maximum(1e-8, np.abs(x) + np.abs(y))))"
   ]
  },
  {
   "cell_type": "code",
   "execution_count": 2,
   "metadata": {},
   "outputs": [
    {
     "name": "stdout",
     "output_type": "stream",
     "text": [
      "X_train:  (49000, 3, 32, 32)\n",
      "y_train:  (49000,)\n",
      "X_val:  (1000, 3, 32, 32)\n",
      "y_val:  (1000,)\n",
      "X_test:  (1000, 3, 32, 32)\n",
      "y_test:  (1000,)\n"
     ]
    }
   ],
   "source": [
    "# Load the (preprocessed) CIFAR10 data.\n",
    "\n",
    "data = get_CIFAR10_data()\n",
    "for k, v in data.items():\n",
    "    print('%s: ' % k, v.shape)"
   ]
  },
  {
   "cell_type": "markdown",
   "metadata": {},
   "source": [
    "# Dropout forward pass\n",
    "In the file `cs231n/layers.py`, implement the forward pass for dropout. Since dropout behaves differently during training and testing, make sure to implement the operation for both modes.\n",
    "\n",
    "Once you have done so, run the cell below to test your implementation."
   ]
  },
  {
   "cell_type": "code",
   "execution_count": 3,
   "metadata": {},
   "outputs": [
    {
     "name": "stdout",
     "output_type": "stream",
     "text": [
      "Running tests with p =  0.3\n",
      "Mean of input:  10.000207878477502\n",
      "Mean of train-time output:  10.035072797050494\n",
      "Mean of test-time output:  10.000207878477502\n",
      "Fraction of train-time output set to zero:  0.699124\n",
      "Fraction of test-time output set to zero:  0.0\n",
      "\n",
      "Running tests with p =  0.6\n",
      "Mean of input:  10.000207878477502\n",
      "Mean of train-time output:  9.976910758765856\n",
      "Mean of test-time output:  10.000207878477502\n",
      "Fraction of train-time output set to zero:  0.401368\n",
      "Fraction of test-time output set to zero:  0.0\n",
      "\n",
      "Running tests with p =  0.75\n",
      "Mean of input:  10.000207878477502\n",
      "Mean of train-time output:  9.993068588261146\n",
      "Mean of test-time output:  10.000207878477502\n",
      "Fraction of train-time output set to zero:  0.250496\n",
      "Fraction of test-time output set to zero:  0.0\n",
      "\n"
     ]
    }
   ],
   "source": [
    "np.random.seed(231)\n",
    "x = np.random.randn(500, 500) + 10\n",
    "\n",
    "for p in [0.3, 0.6, 0.75]:\n",
    "    out, _ = dropout_forward(x, {'mode': 'train', 'p': p})\n",
    "    out_test, _ = dropout_forward(x, {'mode': 'test', 'p': p})\n",
    "\n",
    "    print('Running tests with p = ', p)\n",
    "    print('Mean of input: ', x.mean())\n",
    "    print('Mean of train-time output: ', out.mean())\n",
    "    print('Mean of test-time output: ', out_test.mean())\n",
    "    print('Fraction of train-time output set to zero: ', (out == 0).mean())\n",
    "    print('Fraction of test-time output set to zero: ', (out_test == 0).mean())\n",
    "    print()"
   ]
  },
  {
   "cell_type": "markdown",
   "metadata": {},
   "source": [
    "# Dropout backward pass\n",
    "In the file `cs231n/layers.py`, implement the backward pass for dropout. After doing so, run the following cell to numerically gradient-check your implementation."
   ]
  },
  {
   "cell_type": "code",
   "execution_count": 4,
   "metadata": {},
   "outputs": [
    {
     "name": "stdout",
     "output_type": "stream",
     "text": [
      "dx relative error:  5.445612718272284e-11\n"
     ]
    }
   ],
   "source": [
    "np.random.seed(231)\n",
    "x = np.random.randn(10, 10) + 10\n",
    "dout = np.random.randn(*x.shape)\n",
    "\n",
    "dropout_param = {'mode': 'train', 'p': 0.8, 'seed': 123}\n",
    "out, cache = dropout_forward(x, dropout_param)\n",
    "dx = dropout_backward(dout, cache)\n",
    "dx_num = eval_numerical_gradient_array(lambda xx: dropout_forward(xx, dropout_param)[0], x, dout)\n",
    "\n",
    "print('dx relative error: ', rel_error(dx, dx_num))"
   ]
  },
  {
   "cell_type": "markdown",
   "metadata": {},
   "source": [
    "# Fully-connected nets with Dropout\n",
    "In the file `cs231n/classifiers/fc_net.py`, modify your implementation to use dropout. Specificially, if the constructor the the net receives a nonzero value for the `dropout` parameter, then the net should add dropout immediately after every ReLU nonlinearity. After doing so, run the following to numerically gradient-check your implementation."
   ]
  },
  {
   "cell_type": "code",
   "execution_count": 5,
   "metadata": {},
   "outputs": [
    {
     "name": "stdout",
     "output_type": "stream",
     "text": [
      "Running check with dropout =  0\n",
      "Initial loss:  2.3004790897684924\n",
      "W1 relative error: 1.48e-07\n",
      "W2 relative error: 2.21e-05\n",
      "W3 relative error: 3.53e-07\n",
      "b1 relative error: 5.38e-09\n",
      "b2 relative error: 2.09e-09\n",
      "b3 relative error: 5.80e-11\n",
      "\n",
      "Running check with dropout =  0.25\n",
      "Initial loss:  2.2924325088330475\n",
      "W1 relative error: 2.74e-08\n",
      "W2 relative error: 2.98e-09\n",
      "W3 relative error: 4.29e-09\n",
      "b1 relative error: 7.78e-10\n",
      "b2 relative error: 3.36e-10\n",
      "b3 relative error: 1.65e-10\n",
      "\n",
      "Running check with dropout =  0.5\n",
      "Initial loss:  2.3042759220785896\n",
      "W1 relative error: 3.11e-07\n",
      "W2 relative error: 1.84e-08\n",
      "W3 relative error: 5.35e-08\n",
      "b1 relative error: 2.58e-08\n",
      "b2 relative error: 2.99e-09\n",
      "b3 relative error: 9.54e-11\n",
      "\n"
     ]
    }
   ],
   "source": [
    "np.random.seed(231)\n",
    "N, D, H1, H2, C = 2, 15, 20, 30, 10\n",
    "X = np.random.randn(N, D)\n",
    "y = np.random.randint(C, size=(N,))\n",
    "\n",
    "for dropout in [0, 0.25, 0.5]:\n",
    "    print('Running check with dropout = ', dropout)\n",
    "    model = FullyConnectedNet([H1, H2], input_dim=D, num_classes=C,\n",
    "                            weight_scale=5e-2, dtype=np.float64,\n",
    "                            dropout=dropout, seed=123)\n",
    "\n",
    "    loss, grads = model.loss(X, y)\n",
    "    print('Initial loss: ', loss)\n",
    "\n",
    "    for name in sorted(grads):\n",
    "        f = lambda _: model.loss(X, y)[0]\n",
    "        grad_num = eval_numerical_gradient(f, model.params[name], verbose=False, h=1e-5)\n",
    "        print('%s relative error: %.2e' % (name, rel_error(grad_num, grads[name])))\n",
    "    print()"
   ]
  },
  {
   "cell_type": "markdown",
   "metadata": {},
   "source": [
    "# Regularization experiment\n",
    "As an experiment, we will train a pair of two-layer networks on 500 training examples: one will use no dropout, and one will use a dropout probability of 0.75. We will then visualize the training and validation accuracies of the two networks over time."
   ]
  },
  {
   "cell_type": "code",
   "execution_count": 6,
   "metadata": {
    "scrolled": false
   },
   "outputs": [
    {
     "name": "stdout",
     "output_type": "stream",
     "text": [
      "dropout: 0\n",
      "(Iteration 1 / 50) loss: 8.254748\n",
      "(Epoch 1 / 50) train acc: 0.122000; val_acc: 0.119000\n",
      "(Epoch 2 / 50) train acc: 0.204000; val_acc: 0.167000\n",
      "(Epoch 3 / 50) train acc: 0.250000; val_acc: 0.194000\n",
      "(Epoch 4 / 50) train acc: 0.312000; val_acc: 0.197000\n",
      "(Epoch 5 / 50) train acc: 0.386000; val_acc: 0.193000\n",
      "(Epoch 6 / 50) train acc: 0.428000; val_acc: 0.209000\n",
      "(Epoch 7 / 50) train acc: 0.466000; val_acc: 0.232000\n",
      "(Epoch 8 / 50) train acc: 0.518000; val_acc: 0.253000\n",
      "(Epoch 9 / 50) train acc: 0.586000; val_acc: 0.267000\n",
      "(Epoch 10 / 50) train acc: 0.612000; val_acc: 0.277000\n",
      "(Epoch 11 / 50) train acc: 0.666000; val_acc: 0.283000\n",
      "(Epoch 12 / 50) train acc: 0.696000; val_acc: 0.271000\n",
      "(Epoch 13 / 50) train acc: 0.738000; val_acc: 0.269000\n",
      "(Epoch 14 / 50) train acc: 0.788000; val_acc: 0.275000\n",
      "(Epoch 15 / 50) train acc: 0.820000; val_acc: 0.275000\n",
      "(Epoch 16 / 50) train acc: 0.832000; val_acc: 0.274000\n",
      "(Epoch 17 / 50) train acc: 0.864000; val_acc: 0.279000\n",
      "(Epoch 18 / 50) train acc: 0.886000; val_acc: 0.277000\n",
      "(Epoch 19 / 50) train acc: 0.904000; val_acc: 0.286000\n",
      "(Epoch 20 / 50) train acc: 0.940000; val_acc: 0.279000\n",
      "(Epoch 21 / 50) train acc: 0.948000; val_acc: 0.284000\n",
      "(Epoch 22 / 50) train acc: 0.954000; val_acc: 0.276000\n",
      "(Epoch 23 / 50) train acc: 0.960000; val_acc: 0.272000\n",
      "(Epoch 24 / 50) train acc: 0.972000; val_acc: 0.275000\n",
      "(Epoch 25 / 50) train acc: 0.982000; val_acc: 0.281000\n",
      "(Epoch 26 / 50) train acc: 0.986000; val_acc: 0.284000\n",
      "(Epoch 27 / 50) train acc: 0.988000; val_acc: 0.292000\n",
      "(Epoch 28 / 50) train acc: 0.988000; val_acc: 0.294000\n",
      "(Epoch 29 / 50) train acc: 0.990000; val_acc: 0.299000\n",
      "(Epoch 30 / 50) train acc: 0.994000; val_acc: 0.304000\n",
      "(Epoch 31 / 50) train acc: 0.998000; val_acc: 0.301000\n",
      "(Epoch 32 / 50) train acc: 1.000000; val_acc: 0.294000\n",
      "(Epoch 33 / 50) train acc: 1.000000; val_acc: 0.294000\n",
      "(Epoch 34 / 50) train acc: 1.000000; val_acc: 0.294000\n",
      "(Epoch 35 / 50) train acc: 1.000000; val_acc: 0.297000\n",
      "(Epoch 36 / 50) train acc: 1.000000; val_acc: 0.301000\n",
      "(Epoch 37 / 50) train acc: 1.000000; val_acc: 0.296000\n",
      "(Epoch 38 / 50) train acc: 0.998000; val_acc: 0.296000\n",
      "(Epoch 39 / 50) train acc: 0.998000; val_acc: 0.293000\n",
      "(Epoch 40 / 50) train acc: 0.998000; val_acc: 0.293000\n",
      "(Epoch 41 / 50) train acc: 1.000000; val_acc: 0.290000\n",
      "(Epoch 42 / 50) train acc: 1.000000; val_acc: 0.286000\n",
      "(Epoch 43 / 50) train acc: 1.000000; val_acc: 0.286000\n",
      "(Epoch 44 / 50) train acc: 1.000000; val_acc: 0.285000\n",
      "(Epoch 45 / 50) train acc: 1.000000; val_acc: 0.291000\n",
      "(Epoch 46 / 50) train acc: 1.000000; val_acc: 0.291000\n",
      "(Epoch 47 / 50) train acc: 1.000000; val_acc: 0.290000\n",
      "(Epoch 48 / 50) train acc: 1.000000; val_acc: 0.291000\n",
      "(Epoch 49 / 50) train acc: 1.000000; val_acc: 0.290000\n",
      "(Epoch 50 / 50) train acc: 1.000000; val_acc: 0.291000\n",
      "dropout: 0.75\n",
      "(Iteration 1 / 50) loss: 10.466152\n",
      "(Epoch 1 / 50) train acc: 0.162000; val_acc: 0.134000\n",
      "(Epoch 2 / 50) train acc: 0.214000; val_acc: 0.168000\n",
      "(Epoch 3 / 50) train acc: 0.272000; val_acc: 0.192000\n",
      "(Epoch 4 / 50) train acc: 0.324000; val_acc: 0.214000\n",
      "(Epoch 5 / 50) train acc: 0.374000; val_acc: 0.222000\n",
      "(Epoch 6 / 50) train acc: 0.416000; val_acc: 0.227000\n",
      "(Epoch 7 / 50) train acc: 0.452000; val_acc: 0.241000\n",
      "(Epoch 8 / 50) train acc: 0.500000; val_acc: 0.251000\n",
      "(Epoch 9 / 50) train acc: 0.556000; val_acc: 0.260000\n",
      "(Epoch 10 / 50) train acc: 0.614000; val_acc: 0.270000\n",
      "(Epoch 11 / 50) train acc: 0.672000; val_acc: 0.295000\n",
      "(Epoch 12 / 50) train acc: 0.706000; val_acc: 0.302000\n",
      "(Epoch 13 / 50) train acc: 0.738000; val_acc: 0.299000\n",
      "(Epoch 14 / 50) train acc: 0.776000; val_acc: 0.291000\n",
      "(Epoch 15 / 50) train acc: 0.800000; val_acc: 0.281000\n",
      "(Epoch 16 / 50) train acc: 0.824000; val_acc: 0.279000\n",
      "(Epoch 17 / 50) train acc: 0.832000; val_acc: 0.287000\n",
      "(Epoch 18 / 50) train acc: 0.842000; val_acc: 0.290000\n",
      "(Epoch 19 / 50) train acc: 0.870000; val_acc: 0.292000\n",
      "(Epoch 20 / 50) train acc: 0.906000; val_acc: 0.291000\n",
      "(Epoch 21 / 50) train acc: 0.926000; val_acc: 0.303000\n",
      "(Epoch 22 / 50) train acc: 0.934000; val_acc: 0.306000\n",
      "(Epoch 23 / 50) train acc: 0.936000; val_acc: 0.307000\n",
      "(Epoch 24 / 50) train acc: 0.946000; val_acc: 0.308000\n",
      "(Epoch 25 / 50) train acc: 0.958000; val_acc: 0.312000\n",
      "(Epoch 26 / 50) train acc: 0.970000; val_acc: 0.313000\n",
      "(Epoch 27 / 50) train acc: 0.970000; val_acc: 0.307000\n",
      "(Epoch 28 / 50) train acc: 0.978000; val_acc: 0.307000\n",
      "(Epoch 29 / 50) train acc: 0.982000; val_acc: 0.303000\n",
      "(Epoch 30 / 50) train acc: 0.984000; val_acc: 0.303000\n",
      "(Epoch 31 / 50) train acc: 0.984000; val_acc: 0.297000\n",
      "(Epoch 32 / 50) train acc: 0.988000; val_acc: 0.291000\n",
      "(Epoch 33 / 50) train acc: 0.994000; val_acc: 0.285000\n",
      "(Epoch 34 / 50) train acc: 0.998000; val_acc: 0.291000\n",
      "(Epoch 35 / 50) train acc: 0.996000; val_acc: 0.291000\n",
      "(Epoch 36 / 50) train acc: 0.994000; val_acc: 0.296000\n",
      "(Epoch 37 / 50) train acc: 0.994000; val_acc: 0.299000\n",
      "(Epoch 38 / 50) train acc: 0.994000; val_acc: 0.300000\n",
      "(Epoch 39 / 50) train acc: 0.994000; val_acc: 0.303000\n",
      "(Epoch 40 / 50) train acc: 0.996000; val_acc: 0.304000\n",
      "(Epoch 41 / 50) train acc: 0.998000; val_acc: 0.304000\n",
      "(Epoch 42 / 50) train acc: 0.998000; val_acc: 0.313000\n",
      "(Epoch 43 / 50) train acc: 0.998000; val_acc: 0.314000\n",
      "(Epoch 44 / 50) train acc: 0.998000; val_acc: 0.317000\n",
      "(Epoch 45 / 50) train acc: 0.998000; val_acc: 0.316000\n",
      "(Epoch 46 / 50) train acc: 0.998000; val_acc: 0.312000\n",
      "(Epoch 47 / 50) train acc: 0.998000; val_acc: 0.310000\n",
      "(Epoch 48 / 50) train acc: 0.998000; val_acc: 0.311000\n",
      "(Epoch 49 / 50) train acc: 0.998000; val_acc: 0.307000\n",
      "(Epoch 50 / 50) train acc: 0.998000; val_acc: 0.305000\n"
     ]
    }
   ],
   "source": [
    "# Train two identical nets, one with dropout and one without\n",
    "np.random.seed(231)\n",
    "num_train = 500\n",
    "small_data = {\n",
    "  'X_train': data['X_train'][:num_train],\n",
    "  'y_train': data['y_train'][:num_train],\n",
    "  'X_val': data['X_val'],\n",
    "  'y_val': data['y_val'],\n",
    "}\n",
    "\n",
    "solvers = {}\n",
    "dropout_choices = [0, 0.75]\n",
    "for dropout in dropout_choices:\n",
    "    model = FullyConnectedNet([500], dropout=dropout)\n",
    "    print('dropout:', dropout)\n",
    "\n",
    "    solver = Solver(model, small_data,\n",
    "                   num_epochs=50, batch_size=1000,\n",
    "                   update_rule='adam',\n",
    "                   optim_config={\n",
    "                     'learning_rate': 5e-5,\n",
    "                   },\n",
    "                   verbose=True, print_every=1000)\n",
    "    solver.train()\n",
    "    solvers[dropout] = solver"
   ]
  },
  {
   "cell_type": "code",
   "execution_count": 7,
   "metadata": {},
   "outputs": [
    {
     "data": {
      "image/png": "[encoded data removed]",
      "text/plain": [
       "<matplotlib.figure.Figure at 0x107ec5390>"
      ]
     },
     "metadata": {},
     "output_type": "display_data"
    }
   ],
   "source": [
    "# Plot train and validation accuracies of the two models\n",
    "\n",
    "train_accs = []\n",
    "val_accs = []\n",
    "for dropout in dropout_choices:\n",
    "    solver = solvers[dropout]\n",
    "    train_accs.append(solver.train_acc_history[-1])\n",
    "    val_accs.append(solver.val_acc_history[-1])\n",
    "\n",
    "plt.subplot(3, 1, 1)\n",
    "for dropout in dropout_choices:\n",
    "    plt.plot(solvers[dropout].train_acc_history, 'o', label='%.2f dropout' % dropout)\n",
    "plt.title('Train accuracy')\n",
    "plt.xlabel('Epoch')\n",
    "plt.ylabel('Accuracy')\n",
    "plt.legend(ncol=2, loc='lower right')\n",
    "  \n",
    "plt.subplot(3, 1, 2)\n",
    "for dropout in dropout_choices:\n",
    "    plt.plot(solvers[dropout].val_acc_history, 'o', label='%.2f dropout' % dropout)\n",
    "plt.title('Val accuracy')\n",
    "plt.xlabel('Epoch')\n",
    "plt.ylabel('Accuracy')\n",
    "plt.legend(ncol=2, loc='lower right')\n",
    "\n",
    "plt.gcf().set_size_inches(15, 15)\n",
    "plt.show()"
   ]
  },
  {
   "cell_type": "markdown",
   "metadata": {},
   "source": [
    "# Question\n",
    "Explain what you see in this experiment. What does it suggest about dropout?"
   ]
  },
  {
   "cell_type": "markdown",
   "metadata": {},
   "source": [
    "# Answer\n",
    "Higher dropout achieves 100% training accuracy slower than 0 dropout. This suggests that having dropout avoids overfitting, the model is able to generalize better without compromising on the validation accuracy."
   ]
  }
 ],
 "metadata": {
  "kernelspec": {
   "display_name": "Python 3",
   "language": "python",
   "name": "python3"
  },
  "language_info": {
   "codemirror_mode": {
    "name": "ipython",
    "version": 3
   },
   "file_extension": ".py",
   "mimetype": "text/x-python",
   "name": "python",
   "nbconvert_exporter": "python",
   "pygments_lexer": "ipython3",
   "version": "3.6.1"
  }
 },
 "nbformat": 4,
 "nbformat_minor": 1
}
